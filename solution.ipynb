{
 "cells": [
  {
   "cell_type": "code",
   "execution_count": 1,
   "id": "3d5f265b",
   "metadata": {},
   "outputs": [],
   "source": [
    "import pandas as pd\n",
    "import numpy as np\n",
    "import tensorflow as tf\n"
   ]
  },
  {
   "cell_type": "code",
   "execution_count": 2,
   "id": "reasonable-general",
   "metadata": {},
   "outputs": [],
   "source": [
    "train = pd.read_csv('train.csv')\n",
    "test = pd.read_csv('test.csv')"
   ]
  },
  {
   "cell_type": "code",
   "execution_count": 3,
   "id": "sufficient-stations",
   "metadata": {},
   "outputs": [
    {
     "data": {
      "text/html": [
       "<div>\n",
       "<style scoped>\n",
       "    .dataframe tbody tr th:only-of-type {\n",
       "        vertical-align: middle;\n",
       "    }\n",
       "\n",
       "    .dataframe tbody tr th {\n",
       "        vertical-align: top;\n",
       "    }\n",
       "\n",
       "    .dataframe thead th {\n",
       "        text-align: right;\n",
       "    }\n",
       "</style>\n",
       "<table border=\"1\" class=\"dataframe\">\n",
       "  <thead>\n",
       "    <tr style=\"text-align: right;\">\n",
       "      <th></th>\n",
       "      <th>label</th>\n",
       "      <th>pixel0</th>\n",
       "      <th>pixel1</th>\n",
       "      <th>pixel2</th>\n",
       "      <th>pixel3</th>\n",
       "      <th>pixel4</th>\n",
       "      <th>pixel5</th>\n",
       "      <th>pixel6</th>\n",
       "      <th>pixel7</th>\n",
       "      <th>pixel8</th>\n",
       "      <th>...</th>\n",
       "      <th>pixel774</th>\n",
       "      <th>pixel775</th>\n",
       "      <th>pixel776</th>\n",
       "      <th>pixel777</th>\n",
       "      <th>pixel778</th>\n",
       "      <th>pixel779</th>\n",
       "      <th>pixel780</th>\n",
       "      <th>pixel781</th>\n",
       "      <th>pixel782</th>\n",
       "      <th>pixel783</th>\n",
       "    </tr>\n",
       "  </thead>\n",
       "  <tbody>\n",
       "    <tr>\n",
       "      <th>0</th>\n",
       "      <td>1</td>\n",
       "      <td>0</td>\n",
       "      <td>0</td>\n",
       "      <td>0</td>\n",
       "      <td>0</td>\n",
       "      <td>0</td>\n",
       "      <td>0</td>\n",
       "      <td>0</td>\n",
       "      <td>0</td>\n",
       "      <td>0</td>\n",
       "      <td>...</td>\n",
       "      <td>0</td>\n",
       "      <td>0</td>\n",
       "      <td>0</td>\n",
       "      <td>0</td>\n",
       "      <td>0</td>\n",
       "      <td>0</td>\n",
       "      <td>0</td>\n",
       "      <td>0</td>\n",
       "      <td>0</td>\n",
       "      <td>0</td>\n",
       "    </tr>\n",
       "    <tr>\n",
       "      <th>1</th>\n",
       "      <td>0</td>\n",
       "      <td>0</td>\n",
       "      <td>0</td>\n",
       "      <td>0</td>\n",
       "      <td>0</td>\n",
       "      <td>0</td>\n",
       "      <td>0</td>\n",
       "      <td>0</td>\n",
       "      <td>0</td>\n",
       "      <td>0</td>\n",
       "      <td>...</td>\n",
       "      <td>0</td>\n",
       "      <td>0</td>\n",
       "      <td>0</td>\n",
       "      <td>0</td>\n",
       "      <td>0</td>\n",
       "      <td>0</td>\n",
       "      <td>0</td>\n",
       "      <td>0</td>\n",
       "      <td>0</td>\n",
       "      <td>0</td>\n",
       "    </tr>\n",
       "    <tr>\n",
       "      <th>2</th>\n",
       "      <td>1</td>\n",
       "      <td>0</td>\n",
       "      <td>0</td>\n",
       "      <td>0</td>\n",
       "      <td>0</td>\n",
       "      <td>0</td>\n",
       "      <td>0</td>\n",
       "      <td>0</td>\n",
       "      <td>0</td>\n",
       "      <td>0</td>\n",
       "      <td>...</td>\n",
       "      <td>0</td>\n",
       "      <td>0</td>\n",
       "      <td>0</td>\n",
       "      <td>0</td>\n",
       "      <td>0</td>\n",
       "      <td>0</td>\n",
       "      <td>0</td>\n",
       "      <td>0</td>\n",
       "      <td>0</td>\n",
       "      <td>0</td>\n",
       "    </tr>\n",
       "    <tr>\n",
       "      <th>3</th>\n",
       "      <td>4</td>\n",
       "      <td>0</td>\n",
       "      <td>0</td>\n",
       "      <td>0</td>\n",
       "      <td>0</td>\n",
       "      <td>0</td>\n",
       "      <td>0</td>\n",
       "      <td>0</td>\n",
       "      <td>0</td>\n",
       "      <td>0</td>\n",
       "      <td>...</td>\n",
       "      <td>0</td>\n",
       "      <td>0</td>\n",
       "      <td>0</td>\n",
       "      <td>0</td>\n",
       "      <td>0</td>\n",
       "      <td>0</td>\n",
       "      <td>0</td>\n",
       "      <td>0</td>\n",
       "      <td>0</td>\n",
       "      <td>0</td>\n",
       "    </tr>\n",
       "    <tr>\n",
       "      <th>4</th>\n",
       "      <td>0</td>\n",
       "      <td>0</td>\n",
       "      <td>0</td>\n",
       "      <td>0</td>\n",
       "      <td>0</td>\n",
       "      <td>0</td>\n",
       "      <td>0</td>\n",
       "      <td>0</td>\n",
       "      <td>0</td>\n",
       "      <td>0</td>\n",
       "      <td>...</td>\n",
       "      <td>0</td>\n",
       "      <td>0</td>\n",
       "      <td>0</td>\n",
       "      <td>0</td>\n",
       "      <td>0</td>\n",
       "      <td>0</td>\n",
       "      <td>0</td>\n",
       "      <td>0</td>\n",
       "      <td>0</td>\n",
       "      <td>0</td>\n",
       "    </tr>\n",
       "  </tbody>\n",
       "</table>\n",
       "<p>5 rows × 785 columns</p>\n",
       "</div>"
      ],
      "text/plain": [
       "   label  pixel0  pixel1  pixel2  pixel3  pixel4  pixel5  pixel6  pixel7  \\\n",
       "0      1       0       0       0       0       0       0       0       0   \n",
       "1      0       0       0       0       0       0       0       0       0   \n",
       "2      1       0       0       0       0       0       0       0       0   \n",
       "3      4       0       0       0       0       0       0       0       0   \n",
       "4      0       0       0       0       0       0       0       0       0   \n",
       "\n",
       "   pixel8  ...  pixel774  pixel775  pixel776  pixel777  pixel778  pixel779  \\\n",
       "0       0  ...         0         0         0         0         0         0   \n",
       "1       0  ...         0         0         0         0         0         0   \n",
       "2       0  ...         0         0         0         0         0         0   \n",
       "3       0  ...         0         0         0         0         0         0   \n",
       "4       0  ...         0         0         0         0         0         0   \n",
       "\n",
       "   pixel780  pixel781  pixel782  pixel783  \n",
       "0         0         0         0         0  \n",
       "1         0         0         0         0  \n",
       "2         0         0         0         0  \n",
       "3         0         0         0         0  \n",
       "4         0         0         0         0  \n",
       "\n",
       "[5 rows x 785 columns]"
      ]
     },
     "execution_count": 3,
     "metadata": {},
     "output_type": "execute_result"
    }
   ],
   "source": [
    "train.head()"
   ]
  },
  {
   "cell_type": "code",
   "execution_count": 4,
   "id": "vulnerable-aquatic",
   "metadata": {},
   "outputs": [],
   "source": [
    "X, y = train.drop('label', axis=1), train['label']"
   ]
  },
  {
   "cell_type": "code",
   "execution_count": 6,
   "id": "completed-status",
   "metadata": {
    "scrolled": true
   },
   "outputs": [
    {
     "data": {
      "text/plain": [
       "pandas.core.frame.DataFrame"
      ]
     },
     "execution_count": 6,
     "metadata": {},
     "output_type": "execute_result"
    }
   ],
   "source": [
    "type(X)"
   ]
  },
  {
   "cell_type": "code",
   "execution_count": 10,
   "id": "informative-migration",
   "metadata": {},
   "outputs": [
    {
     "data": {
      "text/plain": [
       "(42000, 784)"
      ]
     },
     "execution_count": 10,
     "metadata": {},
     "output_type": "execute_result"
    }
   ],
   "source": [
    "X.shape"
   ]
  },
  {
   "cell_type": "code",
   "execution_count": 7,
   "id": "protected-trailer",
   "metadata": {},
   "outputs": [],
   "source": [
    "X = X.to_numpy()"
   ]
  },
  {
   "cell_type": "code",
   "execution_count": 11,
   "id": "conditional-trinity",
   "metadata": {},
   "outputs": [
    {
     "name": "stdout",
     "output_type": "stream",
     "text": [
      "1\n"
     ]
    },
    {
     "data": {
      "text/plain": [
       "<matplotlib.image.AxesImage at 0x7f885f02fc40>"
      ]
     },
     "execution_count": 11,
     "metadata": {},
     "output_type": "execute_result"
    },
    {
     "data": {
      "image/png": "[encoded data removed]",
      "text/plain": [
       "<Figure size 432x288 with 1 Axes>"
      ]
     },
     "metadata": {
      "needs_background": "light"
     },
     "output_type": "display_data"
    }
   ],
   "source": [
    "import matplotlib.pyplot as plt\n",
    "%matplotlib inline\n",
    "print(y[0])\n",
    "plt.imshow(X[0].reshape(28, 28), cmap='Greys')"
   ]
  },
  {
   "cell_type": "code",
   "execution_count": 13,
   "id": "coral-prescription",
   "metadata": {},
   "outputs": [
    {
     "name": "stdout",
     "output_type": "stream",
     "text": [
      "x_shape (42000, 28, 28, 1)\n",
      "number of images 42000\n"
     ]
    }
   ],
   "source": [
    "X = X.reshape(X.shape[0], 28, 28, 1)\n",
    "input_shape = (28, 28, 1)\n",
    "X = X.astype('float32')\n",
    "X /= 255\n",
    "print('x_shape', X.shape)\n",
    "print('number of images', X.shape[0])"
   ]
  },
  {
   "cell_type": "code",
   "execution_count": 15,
   "id": "alone-secondary",
   "metadata": {},
   "outputs": [],
   "source": [
    "from tensorflow.keras.models import Sequential\n",
    "from tensorflow.keras.layers import Dense, Conv2D, Dropout, Flatten, MaxPooling2D\n",
    "\n",
    "model = Sequential()\n",
    "model.add(Conv2D(28, kernel_size=(3, 3), input_shape=input_shape))\n",
    "model.add(MaxPooling2D(pool_size=(2, 2)))\n",
    "model.add(Flatten())\n",
    "model.add(Dense(128, activation=tf.nn.relu))\n",
    "model.add(Dropout(0.2))\n",
    "model.add(Dense(10, activation=tf.nn.softmax))"
   ]
  },
  {
   "cell_type": "code",
   "execution_count": 66,
   "id": "changed-aging",
   "metadata": {},
   "outputs": [
    {
     "name": "stdout",
     "output_type": "stream",
     "text": [
      "Epoch 1/100\n",
      "1313/1313 [==============================] - 11s 8ms/step - loss: 0.0769 - accuracy: 0.9761\n",
      "Epoch 2/100\n",
      "1313/1313 [==============================] - 11s 9ms/step - loss: 0.0698 - accuracy: 0.9776\n",
      "Epoch 3/100\n",
      "1313/1313 [==============================] - 11s 9ms/step - loss: 0.0650 - accuracy: 0.9782\n",
      "Epoch 4/100\n",
      "1313/1313 [==============================] - 11s 8ms/step - loss: 0.0646 - accuracy: 0.9793\n",
      "Epoch 5/100\n",
      "1313/1313 [==============================] - 11s 8ms/step - loss: 0.0595 - accuracy: 0.9809\n",
      "Epoch 6/100\n",
      "1313/1313 [==============================] - 11s 9ms/step - loss: 0.0566 - accuracy: 0.9813\n",
      "Epoch 7/100\n",
      "1313/1313 [==============================] - 11s 8ms/step - loss: 0.0530 - accuracy: 0.9834\n",
      "Epoch 8/100\n",
      "1313/1313 [==============================] - 11s 9ms/step - loss: 0.0508 - accuracy: 0.9835\n",
      "Epoch 9/100\n",
      "1313/1313 [==============================] - 11s 9ms/step - loss: 0.0466 - accuracy: 0.9842\n",
      "Epoch 10/100\n",
      "1313/1313 [==============================] - 11s 9ms/step - loss: 0.0474 - accuracy: 0.9839\n",
      "Epoch 11/100\n",
      "1313/1313 [==============================] - 11s 9ms/step - loss: 0.0449 - accuracy: 0.9847\n",
      "Epoch 12/100\n",
      "1313/1313 [==============================] - 11s 9ms/step - loss: 0.0444 - accuracy: 0.9846\n",
      "Epoch 13/100\n",
      "1313/1313 [==============================] - 12s 9ms/step - loss: 0.0413 - accuracy: 0.9861\n",
      "Epoch 14/100\n",
      "1313/1313 [==============================] - 11s 9ms/step - loss: 0.0409 - accuracy: 0.9870\n",
      "Epoch 15/100\n",
      "1313/1313 [==============================] - 11s 9ms/step - loss: 0.0367 - accuracy: 0.9880\n",
      "Epoch 16/100\n",
      "1313/1313 [==============================] - 11s 9ms/step - loss: 0.0363 - accuracy: 0.9873\n",
      "Epoch 17/100\n",
      "1313/1313 [==============================] - 11s 9ms/step - loss: 0.0353 - accuracy: 0.9876\n",
      "Epoch 18/100\n",
      "1313/1313 [==============================] - 11s 9ms/step - loss: 0.0351 - accuracy: 0.9879\n",
      "Epoch 19/100\n",
      "1313/1313 [==============================] - 11s 9ms/step - loss: 0.0323 - accuracy: 0.9889\n",
      "Epoch 20/100\n",
      "1313/1313 [==============================] - 11s 9ms/step - loss: 0.0330 - accuracy: 0.9888\n",
      "Epoch 21/100\n",
      "1313/1313 [==============================] - 11s 9ms/step - loss: 0.0311 - accuracy: 0.9891\n",
      "Epoch 22/100\n",
      "1313/1313 [==============================] - 11s 9ms/step - loss: 0.0299 - accuracy: 0.9900\n",
      "Epoch 23/100\n",
      "1313/1313 [==============================] - 12s 9ms/step - loss: 0.0273 - accuracy: 0.9910\n",
      "Epoch 24/100\n",
      "1313/1313 [==============================] - 12s 9ms/step - loss: 0.0289 - accuracy: 0.9903\n",
      "Epoch 25/100\n",
      "1313/1313 [==============================] - 11s 9ms/step - loss: 0.0284 - accuracy: 0.9904\n",
      "Epoch 26/100\n",
      "1313/1313 [==============================] - 12s 9ms/step - loss: 0.0267 - accuracy: 0.9907\n",
      "Epoch 27/100\n",
      "1313/1313 [==============================] - 11s 9ms/step - loss: 0.0272 - accuracy: 0.9910\n",
      "Epoch 28/100\n",
      "1313/1313 [==============================] - 11s 9ms/step - loss: 0.0253 - accuracy: 0.9910\n",
      "Epoch 29/100\n",
      "1313/1313 [==============================] - 12s 9ms/step - loss: 0.0257 - accuracy: 0.9910\n",
      "Epoch 30/100\n",
      "1313/1313 [==============================] - 11s 9ms/step - loss: 0.0256 - accuracy: 0.9915\n",
      "Epoch 31/100\n",
      "1313/1313 [==============================] - 12s 9ms/step - loss: 0.0247 - accuracy: 0.9913\n",
      "Epoch 32/100\n",
      "1313/1313 [==============================] - 11s 9ms/step - loss: 0.0230 - accuracy: 0.9916\n",
      "Epoch 33/100\n",
      "1313/1313 [==============================] - 12s 9ms/step - loss: 0.0241 - accuracy: 0.9916\n",
      "Epoch 34/100\n",
      "1313/1313 [==============================] - 11s 9ms/step - loss: 0.0224 - accuracy: 0.9916\n",
      "Epoch 35/100\n",
      "1313/1313 [==============================] - 12s 9ms/step - loss: 0.0223 - accuracy: 0.9923\n",
      "Epoch 36/100\n",
      "1313/1313 [==============================] - 11s 8ms/step - loss: 0.0219 - accuracy: 0.9923\n",
      "Epoch 37/100\n",
      "1313/1313 [==============================] - 11s 8ms/step - loss: 0.0215 - accuracy: 0.9929\n",
      "Epoch 38/100\n",
      "1313/1313 [==============================] - 11s 8ms/step - loss: 0.0207 - accuracy: 0.9923\n",
      "Epoch 39/100\n",
      "1313/1313 [==============================] - 11s 8ms/step - loss: 0.0188 - accuracy: 0.9932\n",
      "Epoch 40/100\n",
      "1313/1313 [==============================] - 10s 8ms/step - loss: 0.0187 - accuracy: 0.9937\n",
      "Epoch 41/100\n",
      "1313/1313 [==============================] - 11s 8ms/step - loss: 0.0190 - accuracy: 0.9935\n",
      "Epoch 42/100\n",
      "1313/1313 [==============================] - 11s 8ms/step - loss: 0.0199 - accuracy: 0.9927\n",
      "Epoch 43/100\n",
      "1313/1313 [==============================] - 11s 8ms/step - loss: 0.0174 - accuracy: 0.9939\n",
      "Epoch 44/100\n",
      "1313/1313 [==============================] - 11s 8ms/step - loss: 0.0187 - accuracy: 0.9936\n",
      "Epoch 45/100\n",
      "1313/1313 [==============================] - 11s 8ms/step - loss: 0.0186 - accuracy: 0.9939\n",
      "Epoch 46/100\n",
      "1313/1313 [==============================] - 11s 8ms/step - loss: 0.0186 - accuracy: 0.9935\n",
      "Epoch 47/100\n",
      "1313/1313 [==============================] - 11s 8ms/step - loss: 0.0174 - accuracy: 0.9937\n",
      "Epoch 48/100\n",
      "1313/1313 [==============================] - 11s 8ms/step - loss: 0.0165 - accuracy: 0.9939\n",
      "Epoch 49/100\n",
      "1313/1313 [==============================] - 11s 8ms/step - loss: 0.0181 - accuracy: 0.9936\n",
      "Epoch 50/100\n",
      "1313/1313 [==============================] - 11s 8ms/step - loss: 0.0156 - accuracy: 0.9941\n",
      "Epoch 51/100\n",
      "1313/1313 [==============================] - 11s 8ms/step - loss: 0.0161 - accuracy: 0.9943\n",
      "Epoch 52/100\n",
      "1313/1313 [==============================] - 11s 8ms/step - loss: 0.0179 - accuracy: 0.9936\n",
      "Epoch 53/100\n",
      "1313/1313 [==============================] - 11s 8ms/step - loss: 0.0168 - accuracy: 0.9944\n",
      "Epoch 54/100\n",
      "1313/1313 [==============================] - 11s 8ms/step - loss: 0.0153 - accuracy: 0.9945\n",
      "Epoch 55/100\n",
      "1313/1313 [==============================] - 11s 8ms/step - loss: 0.0153 - accuracy: 0.9945\n",
      "Epoch 56/100\n",
      "1313/1313 [==============================] - 11s 8ms/step - loss: 0.0142 - accuracy: 0.9950\n",
      "Epoch 57/100\n",
      "1313/1313 [==============================] - 11s 8ms/step - loss: 0.0156 - accuracy: 0.9947\n",
      "Epoch 58/100\n",
      "1313/1313 [==============================] - 11s 8ms/step - loss: 0.0147 - accuracy: 0.9948\n",
      "Epoch 59/100\n",
      "1313/1313 [==============================] - 11s 8ms/step - loss: 0.0152 - accuracy: 0.9949\n",
      "Epoch 60/100\n",
      "1313/1313 [==============================] - 10s 8ms/step - loss: 0.0141 - accuracy: 0.9949\n",
      "Epoch 61/100\n",
      "1313/1313 [==============================] - 11s 8ms/step - loss: 0.0162 - accuracy: 0.9949\n",
      "Epoch 62/100\n",
      "1313/1313 [==============================] - 11s 8ms/step - loss: 0.0143 - accuracy: 0.9950\n",
      "Epoch 63/100\n",
      "1313/1313 [==============================] - 11s 8ms/step - loss: 0.0136 - accuracy: 0.9953\n",
      "Epoch 64/100\n",
      "1313/1313 [==============================] - 11s 8ms/step - loss: 0.0148 - accuracy: 0.9950\n",
      "Epoch 65/100\n",
      "1313/1313 [==============================] - 11s 8ms/step - loss: 0.0132 - accuracy: 0.9953\n",
      "Epoch 66/100\n",
      "1313/1313 [==============================] - 11s 8ms/step - loss: 0.0128 - accuracy: 0.9956\n",
      "Epoch 67/100\n",
      "1313/1313 [==============================] - 11s 8ms/step - loss: 0.0144 - accuracy: 0.9949\n",
      "Epoch 68/100\n",
      "1313/1313 [==============================] - 11s 8ms/step - loss: 0.0143 - accuracy: 0.9951\n",
      "Epoch 69/100\n",
      "1313/1313 [==============================] - 12s 9ms/step - loss: 0.0119 - accuracy: 0.9961\n",
      "Epoch 70/100\n",
      "1313/1313 [==============================] - 13s 10ms/step - loss: 0.0132 - accuracy: 0.9950\n",
      "Epoch 71/100\n",
      "1313/1313 [==============================] - 11s 9ms/step - loss: 0.0122 - accuracy: 0.9953\n",
      "Epoch 72/100\n",
      "1313/1313 [==============================] - 12s 9ms/step - loss: 0.0132 - accuracy: 0.9953\n",
      "Epoch 73/100\n",
      "1313/1313 [==============================] - 12s 9ms/step - loss: 0.0122 - accuracy: 0.9958\n",
      "Epoch 74/100\n",
      "1313/1313 [==============================] - 12s 9ms/step - loss: 0.0123 - accuracy: 0.9960\n",
      "Epoch 75/100\n",
      "1313/1313 [==============================] - 12s 9ms/step - loss: 0.0123 - accuracy: 0.9957\n",
      "Epoch 76/100\n",
      "1313/1313 [==============================] - 12s 9ms/step - loss: 0.0121 - accuracy: 0.9956\n",
      "Epoch 77/100\n",
      "1313/1313 [==============================] - 12s 9ms/step - loss: 0.0122 - accuracy: 0.9958\n",
      "Epoch 78/100\n",
      "1313/1313 [==============================] - 12s 9ms/step - loss: 0.0125 - accuracy: 0.9960\n",
      "Epoch 79/100\n"
     ]
    },
    {
     "name": "stdout",
     "output_type": "stream",
     "text": [
      "1313/1313 [==============================] - 11s 8ms/step - loss: 0.0118 - accuracy: 0.9961\n",
      "Epoch 80/100\n",
      "1313/1313 [==============================] - 11s 8ms/step - loss: 0.0110 - accuracy: 0.9964\n",
      "Epoch 81/100\n",
      "1313/1313 [==============================] - 11s 8ms/step - loss: 0.0106 - accuracy: 0.9962\n",
      "Epoch 82/100\n",
      "1313/1313 [==============================] - 11s 8ms/step - loss: 0.0119 - accuracy: 0.9959\n",
      "Epoch 83/100\n",
      "1313/1313 [==============================] - 11s 8ms/step - loss: 0.0119 - accuracy: 0.9960\n",
      "Epoch 84/100\n",
      "1313/1313 [==============================] - 11s 8ms/step - loss: 0.0104 - accuracy: 0.9964\n",
      "Epoch 85/100\n",
      "1313/1313 [==============================] - 11s 8ms/step - loss: 0.0113 - accuracy: 0.9960\n",
      "Epoch 86/100\n",
      "1313/1313 [==============================] - 11s 8ms/step - loss: 0.0111 - accuracy: 0.9960\n",
      "Epoch 87/100\n",
      "1313/1313 [==============================] - 11s 8ms/step - loss: 0.0116 - accuracy: 0.9960\n",
      "Epoch 88/100\n",
      "1313/1313 [==============================] - 11s 8ms/step - loss: 0.0106 - accuracy: 0.9962\n",
      "Epoch 89/100\n",
      "1313/1313 [==============================] - 11s 8ms/step - loss: 0.0102 - accuracy: 0.9965\n",
      "Epoch 90/100\n",
      "1313/1313 [==============================] - 11s 8ms/step - loss: 0.0113 - accuracy: 0.9960\n",
      "Epoch 91/100\n",
      "1313/1313 [==============================] - 11s 8ms/step - loss: 0.0102 - accuracy: 0.9970\n",
      "Epoch 92/100\n",
      "1313/1313 [==============================] - 11s 8ms/step - loss: 0.0091 - accuracy: 0.9968\n",
      "Epoch 93/100\n",
      "1313/1313 [==============================] - 11s 8ms/step - loss: 0.0106 - accuracy: 0.9963\n",
      "Epoch 94/100\n",
      "1313/1313 [==============================] - 11s 8ms/step - loss: 0.0091 - accuracy: 0.9969\n",
      "Epoch 95/100\n",
      "1313/1313 [==============================] - 11s 8ms/step - loss: 0.0105 - accuracy: 0.9961\n",
      "Epoch 96/100\n",
      "1313/1313 [==============================] - 11s 8ms/step - loss: 0.0085 - accuracy: 0.9968\n",
      "Epoch 97/100\n",
      "1313/1313 [==============================] - 11s 8ms/step - loss: 0.0111 - accuracy: 0.9962\n",
      "Epoch 98/100\n",
      "1313/1313 [==============================] - 11s 8ms/step - loss: 0.0113 - accuracy: 0.9962\n",
      "Epoch 99/100\n",
      "1313/1313 [==============================] - 11s 8ms/step - loss: 0.0084 - accuracy: 0.9973\n",
      "Epoch 100/100\n",
      "1313/1313 [==============================] - 11s 8ms/step - loss: 0.0092 - accuracy: 0.9970\n"
     ]
    },
    {
     "data": {
      "text/plain": [
       "<keras.callbacks.History at 0x7f88406cc760>"
      ]
     },
     "execution_count": 66,
     "metadata": {},
     "output_type": "execute_result"
    }
   ],
   "source": [
    "model.compile(optimizer='adam',\n",
    "             loss='sparse_categorical_crossentropy',\n",
    "             metrics=['accuracy'])\n",
    "model.fit(x=X, y=y, epochs=100)"
   ]
  },
  {
   "cell_type": "code",
   "execution_count": 67,
   "id": "synthetic-junior",
   "metadata": {},
   "outputs": [
    {
     "data": {
      "text/plain": [
       "(28000, 28, 28, 1)"
      ]
     },
     "execution_count": 67,
     "metadata": {},
     "output_type": "execute_result"
    }
   ],
   "source": [
    "test.shape"
   ]
  },
  {
   "cell_type": "code",
   "execution_count": 68,
   "id": "adverse-borough",
   "metadata": {},
   "outputs": [
    {
     "ename": "AttributeError",
     "evalue": "'numpy.ndarray' object has no attribute 'to_numpy'",
     "output_type": "error",
     "traceback": [
      "\u001b[0;31m---------------------------------------------------------------------------\u001b[0m",
      "\u001b[0;31mAttributeError\u001b[0m                            Traceback (most recent call last)",
      "\u001b[0;32m<ipython-input-68-8466675d62ec>\u001b[0m in \u001b[0;36m<module>\u001b[0;34m\u001b[0m\n\u001b[0;32m----> 1\u001b[0;31m \u001b[0mtest\u001b[0m \u001b[0;34m=\u001b[0m \u001b[0mtest\u001b[0m\u001b[0;34m.\u001b[0m\u001b[0mto_numpy\u001b[0m\u001b[0;34m(\u001b[0m\u001b[0;34m)\u001b[0m\u001b[0;34m\u001b[0m\u001b[0;34m\u001b[0m\u001b[0m\n\u001b[0m",
      "\u001b[0;31mAttributeError\u001b[0m: 'numpy.ndarray' object has no attribute 'to_numpy'"
     ]
    }
   ],
   "source": [
    "test = test.to_numpy()"
   ]
  },
  {
   "cell_type": "code",
   "execution_count": 70,
   "id": "terminal-korean",
   "metadata": {},
   "outputs": [],
   "source": [
    "test = test.reshape(28000, 28, 28, 1)"
   ]
  },
  {
   "cell_type": "code",
   "execution_count": 71,
   "id": "inappropriate-thailand",
   "metadata": {},
   "outputs": [
    {
     "name": "stdout",
     "output_type": "stream",
     "text": [
      "7\n"
     ]
    },
    {
     "data": {
      "image/png": "[encoded data removed]",
      "text/plain": [
       "<Figure size 432x288 with 1 Axes>"
      ]
     },
     "metadata": {
      "needs_background": "light"
     },
     "output_type": "display_data"
    }
   ],
   "source": [
    "plt.imshow(test[4577].reshape(28, 28), cmap='Greys')\n",
    "pred = model.predict(test[4577].reshape(1, 28, 28, 1))\n",
    "print(pred.argmax())"
   ]
  },
  {
   "cell_type": "code",
   "execution_count": 72,
   "id": "practical-married",
   "metadata": {},
   "outputs": [],
   "source": [
    "pred = model.predict(test)"
   ]
  },
  {
   "cell_type": "code",
   "execution_count": 73,
   "id": "decent-institute",
   "metadata": {},
   "outputs": [
    {
     "data": {
      "text/plain": [
       "numpy.ndarray"
      ]
     },
     "execution_count": 73,
     "metadata": {},
     "output_type": "execute_result"
    }
   ],
   "source": [
    "type(pred)"
   ]
  },
  {
   "cell_type": "code",
   "execution_count": 74,
   "id": "smaller-content",
   "metadata": {},
   "outputs": [],
   "source": [
    "sub = np.ndarray(28000)\n",
    "for i in range(len(pred)):\n",
    "    sub[i] = int(pred[i].argmax())\n",
    "    "
   ]
  },
  {
   "cell_type": "code",
   "execution_count": 75,
   "id": "hourly-affair",
   "metadata": {},
   "outputs": [
    {
     "data": {
      "text/plain": [
       "array([2., 0., 9., ..., 3., 9., 2.])"
      ]
     },
     "execution_count": 75,
     "metadata": {},
     "output_type": "execute_result"
    }
   ],
   "source": [
    "sub"
   ]
  },
  {
   "cell_type": "code",
   "execution_count": 76,
   "id": "formal-photography",
   "metadata": {},
   "outputs": [],
   "source": [
    "sub = sub.astype(int)"
   ]
  },
  {
   "cell_type": "code",
   "execution_count": 77,
   "id": "impaired-exclusive",
   "metadata": {},
   "outputs": [],
   "source": [
    "sam_submission = pd.read_csv('sample_submission.csv')"
   ]
  },
  {
   "cell_type": "code",
   "execution_count": 78,
   "id": "general-equilibrium",
   "metadata": {},
   "outputs": [
    {
     "data": {
      "text/html": [
       "<div>\n",
       "<style scoped>\n",
       "    .dataframe tbody tr th:only-of-type {\n",
       "        vertical-align: middle;\n",
       "    }\n",
       "\n",
       "    .dataframe tbody tr th {\n",
       "        vertical-align: top;\n",
       "    }\n",
       "\n",
       "    .dataframe thead th {\n",
       "        text-align: right;\n",
       "    }\n",
       "</style>\n",
       "<table border=\"1\" class=\"dataframe\">\n",
       "  <thead>\n",
       "    <tr style=\"text-align: right;\">\n",
       "      <th></th>\n",
       "      <th>ImageId</th>\n",
       "      <th>Label</th>\n",
       "    </tr>\n",
       "  </thead>\n",
       "  <tbody>\n",
       "    <tr>\n",
       "      <th>0</th>\n",
       "      <td>1</td>\n",
       "      <td>0</td>\n",
       "    </tr>\n",
       "    <tr>\n",
       "      <th>1</th>\n",
       "      <td>2</td>\n",
       "      <td>0</td>\n",
       "    </tr>\n",
       "    <tr>\n",
       "      <th>2</th>\n",
       "      <td>3</td>\n",
       "      <td>0</td>\n",
       "    </tr>\n",
       "    <tr>\n",
       "      <th>3</th>\n",
       "      <td>4</td>\n",
       "      <td>0</td>\n",
       "    </tr>\n",
       "    <tr>\n",
       "      <th>4</th>\n",
       "      <td>5</td>\n",
       "      <td>0</td>\n",
       "    </tr>\n",
       "  </tbody>\n",
       "</table>\n",
       "</div>"
      ],
      "text/plain": [
       "   ImageId  Label\n",
       "0        1      0\n",
       "1        2      0\n",
       "2        3      0\n",
       "3        4      0\n",
       "4        5      0"
      ]
     },
     "execution_count": 78,
     "metadata": {},
     "output_type": "execute_result"
    }
   ],
   "source": [
    "sam_submission.head()"
   ]
  },
  {
   "cell_type": "code",
   "execution_count": 79,
   "id": "aging-orange",
   "metadata": {},
   "outputs": [],
   "source": [
    "sam_submission['Label'] = sub"
   ]
  },
  {
   "cell_type": "code",
   "execution_count": 80,
   "id": "developed-transport",
   "metadata": {},
   "outputs": [
    {
     "data": {
      "text/html": [
       "<div>\n",
       "<style scoped>\n",
       "    .dataframe tbody tr th:only-of-type {\n",
       "        vertical-align: middle;\n",
       "    }\n",
       "\n",
       "    .dataframe tbody tr th {\n",
       "        vertical-align: top;\n",
       "    }\n",
       "\n",
       "    .dataframe thead th {\n",
       "        text-align: right;\n",
       "    }\n",
       "</style>\n",
       "<table border=\"1\" class=\"dataframe\">\n",
       "  <thead>\n",
       "    <tr style=\"text-align: right;\">\n",
       "      <th></th>\n",
       "      <th>ImageId</th>\n",
       "      <th>Label</th>\n",
       "    </tr>\n",
       "  </thead>\n",
       "  <tbody>\n",
       "    <tr>\n",
       "      <th>0</th>\n",
       "      <td>1</td>\n",
       "      <td>2</td>\n",
       "    </tr>\n",
       "    <tr>\n",
       "      <th>1</th>\n",
       "      <td>2</td>\n",
       "      <td>0</td>\n",
       "    </tr>\n",
       "    <tr>\n",
       "      <th>2</th>\n",
       "      <td>3</td>\n",
       "      <td>9</td>\n",
       "    </tr>\n",
       "    <tr>\n",
       "      <th>3</th>\n",
       "      <td>4</td>\n",
       "      <td>9</td>\n",
       "    </tr>\n",
       "    <tr>\n",
       "      <th>4</th>\n",
       "      <td>5</td>\n",
       "      <td>3</td>\n",
       "    </tr>\n",
       "  </tbody>\n",
       "</table>\n",
       "</div>"
      ],
      "text/plain": [
       "   ImageId  Label\n",
       "0        1      2\n",
       "1        2      0\n",
       "2        3      9\n",
       "3        4      9\n",
       "4        5      3"
      ]
     },
     "execution_count": 80,
     "metadata": {},
     "output_type": "execute_result"
    }
   ],
   "source": [
    "sam_submission.head()"
   ]
  },
  {
   "cell_type": "code",
   "execution_count": 81,
   "id": "controlling-avenue",
   "metadata": {},
   "outputs": [],
   "source": [
    "sam_submission.reset_index(drop=True, inplace=True)"
   ]
  },
  {
   "cell_type": "code",
   "execution_count": 82,
   "id": "increasing-enhancement",
   "metadata": {},
   "outputs": [],
   "source": [
    "sam_submission.to_csv('submission.csv', index=False)"
   ]
  },
  {
   "cell_type": "code",
   "execution_count": null,
   "id": "bacterial-weight",
   "metadata": {},
   "outputs": [],
   "source": []
  }
 ],
 "metadata": {
  "kernelspec": {
   "display_name": "Python 3",
   "language": "python",
   "name": "python3"
  },
  "language_info": {
   "codemirror_mode": {
    "name": "ipython",
    "version": 3
   },
   "file_extension": ".py",
   "mimetype": "text/x-python",
   "name": "python",
   "nbconvert_exporter": "python",
   "pygments_lexer": "ipython3",
   "version": "3.9.7"
  }
 },
 "nbformat": 4,
 "nbformat_minor": 5
}
